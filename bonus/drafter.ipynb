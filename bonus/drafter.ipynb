{
 "cells": [
  {
   "cell_type": "code",
   "execution_count": 1,
   "id": "eligible-collective",
   "metadata": {},
   "outputs": [],
   "source": [
    "f = open('./inputs/tiles_1.txt', \"r\")\n",
    "text = f.read()"
   ]
  },
  {
   "cell_type": "code",
   "execution_count": 2,
   "id": "forty-judge",
   "metadata": {},
   "outputs": [],
   "source": [
    "from src.constructor import construct_landscape"
   ]
  },
  {
   "cell_type": "code",
   "execution_count": 4,
   "id": "vital-peninsula",
   "metadata": {},
   "outputs": [],
   "source": [
    "mat = construct_landscape(text)"
   ]
  },
  {
   "cell_type": "code",
   "execution_count": 9,
   "id": "emerging-conditioning",
   "metadata": {},
   "outputs": [
    {
     "data": {
      "text/plain": [
       "20"
      ]
     },
     "execution_count": 9,
     "metadata": {},
     "output_type": "execute_result"
    }
   ],
   "source": [
    "mat.shape[0]"
   ]
  },
  {
   "cell_type": "code",
   "execution_count": 23,
   "id": "promotional-possession",
   "metadata": {},
   "outputs": [],
   "source": [
    "dic = dict()"
   ]
  },
  {
   "cell_type": "code",
   "execution_count": 24,
   "id": "imperial-healing",
   "metadata": {},
   "outputs": [
    {
     "name": "stdout",
     "output_type": "stream",
     "text": [
      "[['2' '2' '1' '3']\n",
      " ['' '2' '1' '3']\n",
      " ['2' '1' '' '']\n",
      " ['' '3' '2' '']]\n"
     ]
    }
   ],
   "source": [
    "print(mat[:4,:4])"
   ]
  },
  {
   "cell_type": "code",
   "execution_count": 28,
   "id": "adult-mayor",
   "metadata": {},
   "outputs": [],
   "source": [
    "# divide the matrix into 4 x 4 areas that tiles will get assigned to\n",
    "area = 0\n",
    "for i in range(0, mat.shape[0], 4):\n",
    "    for j in range(0, mat.shape[1], 4):\n",
    "        dic[area] = mat[i:i+4, j:j+4]\n",
    "        area += 1\n",
    "\n"
   ]
  },
  {
   "cell_type": "code",
   "execution_count": 44,
   "id": "blank-israeli",
   "metadata": {},
   "outputs": [
    {
     "data": {
      "text/plain": [
       "(4, 4)"
      ]
     },
     "execution_count": 44,
     "metadata": {},
     "output_type": "execute_result"
    }
   ],
   "source": [
    "dic[0].shape"
   ]
  },
  {
   "cell_type": "code",
   "execution_count": 47,
   "id": "naughty-error",
   "metadata": {},
   "outputs": [
    {
     "data": {
      "text/plain": [
       "['full_block',\n",
       " 'full_block',\n",
       " 'full_block',\n",
       " 'full_block',\n",
       " 'full_block',\n",
       " 'full_block',\n",
       " 'outer',\n",
       " 'outer',\n",
       " 'outer']"
      ]
     },
     "execution_count": 47,
     "metadata": {},
     "output_type": "execute_result"
    }
   ],
   "source": [
    "['full_block'] * 6 + ['outer'] * 3"
   ]
  },
  {
   "cell_type": "code",
   "execution_count": null,
   "id": "cellular-processing",
   "metadata": {},
   "outputs": [],
   "source": []
  }
 ],
 "metadata": {
  "kernelspec": {
   "display_name": "Python 3",
   "language": "python",
   "name": "python3"
  },
  "language_info": {
   "codemirror_mode": {
    "name": "ipython",
    "version": 3
   },
   "file_extension": ".py",
   "mimetype": "text/x-python",
   "name": "python",
   "nbconvert_exporter": "python",
   "pygments_lexer": "ipython3",
   "version": "3.8.5"
  }
 },
 "nbformat": 4,
 "nbformat_minor": 5
}

{
 "cells": [
  {
   "cell_type": "code",
   "execution_count": 1,
   "id": "educational-renaissance",
   "metadata": {},
   "outputs": [],
   "source": [
    "f = open('./inputs/tiles_1.txt', \"r\")\n",
    "text = f.read()"
   ]
  },
  {
   "cell_type": "code",
   "execution_count": 2,
   "id": "proper-focus",
   "metadata": {},
   "outputs": [
    {
     "data": {
      "text/plain": [
       "'# Tiles Problem, generated at: Tue Feb 16 23:27:21 EST 2021\\n# Landscape\\n2 2 1 3   3 4   4 2 2 4   4       2 4 3 \\n  2 1 3 2 2       1   1 2 2   2 3 4 4 4 \\n2 1       2 2 4 3 2 2 2 1 2 2     1 1   \\n  3 2   1   1 1 4 1 3 4 2 1       1 4 1 \\n4 2 3 4 4 4   2 2     3 2 3   2   2 3 2 \\n2 4 1   1 1 1 4 1   1 3   3 2   4   1 2 \\n4 3 1 4 3 3 1 4   1 1 1 4 2 2 4 1 4 3 4 \\n2 1 1 1 4 4 3 4 4 2   3   3   3 4 4     \\n1     3   3 2 2 4 3 3 2 4       1 4 3   \\n  1 3 1 3 2 3 2 1     1 4 3 2 1 2 4 1 3 \\n  3   2 3 4 3 3 1     1 2 3 3   2 1 2 3 \\n1 3 1 1 4 4 4 2   4 4 3 4 1 1 2 2 3 2 3 \\n2 1   1 1 1   1 2 1 3 2 2 3 3 4     3 4 \\n4 2     2 3 2 1 1 1 4   4 4 3 2 2   2 3 \\n3 1 4 3   1 4 4 1 1 3 1 1 1     2 1 2   \\n3 2 2 4 3 1 1 4 1     3 1 2 3 2 2 2 3 4 \\n  2 2 1 3 3 1 1       3   4 4 2 2 2 4 4 \\n  1 4 3     1 1 3 3   4 3 4 4 4 4 1 1 1 \\n3 2 1 2   3 1 1 3 4 2 4   3   2     4 1 \\n4   3 4   4 3 4 3 2 2 2 1 4 3 4 3     1 \\n\\n# Tiles: \\n{OUTER_BOUNDARY=6, EL_SHAPE=7, FULL_BLOCK=12}\\n\\n# Targets: \\n1:18\\n2:19\\n3:16\\n4:17\\n'"
      ]
     },
     "execution_count": 2,
     "metadata": {},
     "output_type": "execute_result"
    }
   ],
   "source": [
    "text"
   ]
  },
  {
   "cell_type": "code",
   "execution_count": 3,
   "id": "available-respondent",
   "metadata": {},
   "outputs": [],
   "source": [
    "data = text.split('Landscape\\n')[-1].split('\\n# Tiles')[0]"
   ]
  },
  {
   "cell_type": "code",
   "execution_count": 4,
   "id": "liable-photography",
   "metadata": {},
   "outputs": [
    {
     "data": {
      "text/plain": [
       "'2 2 1 3   3 4   4 2 2 4   4       2 4 3 \\n  2 1 3 2 2       1   1 2 2   2 3 4 4 4 \\n2 1       2 2 4 3 2 2 2 1 2 2     1 1   \\n  3 2   1   1 1 4 1 3 4 2 1       1 4 1 \\n4 2 3 4 4 4   2 2     3 2 3   2   2 3 2 \\n2 4 1   1 1 1 4 1   1 3   3 2   4   1 2 \\n4 3 1 4 3 3 1 4   1 1 1 4 2 2 4 1 4 3 4 \\n2 1 1 1 4 4 3 4 4 2   3   3   3 4 4     \\n1     3   3 2 2 4 3 3 2 4       1 4 3   \\n  1 3 1 3 2 3 2 1     1 4 3 2 1 2 4 1 3 \\n  3   2 3 4 3 3 1     1 2 3 3   2 1 2 3 \\n1 3 1 1 4 4 4 2   4 4 3 4 1 1 2 2 3 2 3 \\n2 1   1 1 1   1 2 1 3 2 2 3 3 4     3 4 \\n4 2     2 3 2 1 1 1 4   4 4 3 2 2   2 3 \\n3 1 4 3   1 4 4 1 1 3 1 1 1     2 1 2   \\n3 2 2 4 3 1 1 4 1     3 1 2 3 2 2 2 3 4 \\n  2 2 1 3 3 1 1       3   4 4 2 2 2 4 4 \\n  1 4 3     1 1 3 3   4 3 4 4 4 4 1 1 1 \\n3 2 1 2   3 1 1 3 4 2 4   3   2     4 1 \\n4   3 4   4 3 4 3 2 2 2 1 4 3 4 3     1 \\n'"
      ]
     },
     "execution_count": 4,
     "metadata": {},
     "output_type": "execute_result"
    }
   ],
   "source": [
    "data"
   ]
  },
  {
   "cell_type": "code",
   "execution_count": 13,
   "id": "attempted-basement",
   "metadata": {},
   "outputs": [],
   "source": [
    "f_row = data.split(\" \\n\")[0].split(\"  \")"
   ]
  },
  {
   "cell_type": "code",
   "execution_count": 17,
   "id": "organic-velvet",
   "metadata": {},
   "outputs": [],
   "source": [
    "cnt = 0\n",
    "for ele in f_row:\n",
    "    splitted_str = ele.split(\" \")\n",
    "    for i in splitted_str:\n",
    "        cnt += 1"
   ]
  },
  {
   "cell_type": "code",
   "execution_count": 18,
   "id": "graduate-promotion",
   "metadata": {},
   "outputs": [
    {
     "data": {
      "text/plain": [
       "20"
      ]
     },
     "execution_count": 18,
     "metadata": {},
     "output_type": "execute_result"
    }
   ],
   "source": [
    "# number of columns = number of rows\n",
    "cnt"
   ]
  },
  {
   "cell_type": "code",
   "execution_count": 39,
   "id": "anticipated-vaccine",
   "metadata": {},
   "outputs": [],
   "source": [
    "# put inside a matrix\n",
    "\n",
    "import numpy as np\n",
    "\n",
    "mat = np.empty([cnt, cnt], dtype=object)"
   ]
  },
  {
   "cell_type": "code",
   "execution_count": 40,
   "id": "incorporate-battle",
   "metadata": {},
   "outputs": [],
   "source": [
    "for i in range(0, cnt):\n",
    "    row = data.split(\" \\n\")[i].split(\"  \")\n",
    "    j = 0\n",
    "    for ele in row:\n",
    "        splitted_str = ele.split(\" \")\n",
    "        for string in splitted_str:\n",
    "            mat[i][j] = string\n",
    "            j += 1"
   ]
  },
  {
   "cell_type": "code",
   "execution_count": null,
   "id": "patient-jumping",
   "metadata": {},
   "outputs": [],
   "source": []
  }
 ],
 "metadata": {
  "kernelspec": {
   "display_name": "Python 3",
   "language": "python",
   "name": "python3"
  },
  "language_info": {
   "codemirror_mode": {
    "name": "ipython",
    "version": 3
   },
   "file_extension": ".py",
   "mimetype": "text/x-python",
   "name": "python",
   "nbconvert_exporter": "python",
   "pygments_lexer": "ipython3",
   "version": "3.8.5"
  }
 },
 "nbformat": 4,
 "nbformat_minor": 5
}
